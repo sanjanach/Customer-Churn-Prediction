{
 "cells": [
  {
   "cell_type": "code",
   "execution_count": null,
   "id": "3008cb35",
   "metadata": {},
   "outputs": [],
   "source": [
    "import pandas as pd\n",
    "import numpy as np\n",
    "import seaborn as sns\n",
    "import matplotlib.pyplot as plt\n",
    "\n",
    "import plotly.express as px\n",
    "import plotly.graph_objects as go\n",
    "from plotly.subplots import make_subplots\n",
    "import plotly.figure_factory as ff\n",
    "\n",
    "from sklearn.preprocessing import LabelEncoder\n",
    "\n",
    "import xgboost as xgb\n",
    "from sklearn.ensemble import RandomForestClassifier\n",
    "\n",
    "from sklearn.model_selection import train_test_split\n",
    "from sklearn.preprocessing import StandardScaler\n",
    "from sklearn.metrics import accuracy_score, f1_score,confusion_matrix,classification_report\n",
    "pip install xgboost"
   ]
  },
  {
   "cell_type": "code",
   "execution_count": null,
   "id": "8b7a151d",
   "metadata": {},
   "outputs": [],
   "source": [
    "#importing the dataset\n",
    "df_churn=pd.read_csv(\"data/Churn_Data.csv\")\n",
    "df_churn.info()\n",
    "df_churn.isnull().sum()\n",
    "df_churn.head()\n",
    "df_churn.drop(['Surname'],axis=1,inplace=True)\n",
    "df_churn.drop(['Gender'],axis=1,inplace=True)\n",
    "df_churn.drop(['RowNumber'],axis=1,inplace=True)\n",
    "df_churn.drop(['CustomerId'],axis=1,inplace=True)"
   ]
  },
  {
   "cell_type": "code",
   "execution_count": null,
   "id": "f8510a46",
   "metadata": {},
   "outputs": [],
   "source": [
    "palette={\"Germany\": \"#F0E100\", \"France\": \"#01295F\", \"Spain\": \"#F17105\"}\n",
    "palette_df=pd.DataFrame(palette.items(), columns=['Geography', 'Color'])\n",
    "palette_df\n",
    "customersa=pd.DataFrame(df_churn['Geography'].value_counts(normalize=False))\n",
    "customersa=customersa.reset_index().rename(columns = {'index':'Geography','Geography':'Count'})\n",
    "\n",
    "customers=pd.merge(customersa, palette_df, on=['Geography'],how='outer')\n",
    "\n",
    "fig = go.Figure(data=[go.Pie(labels=customers['Geography'], values=customers['Count'],textinfo='label',\n",
    "                     name='Customers Geographical Locations', \n",
    "                     marker_colors=customers['Color'],hole=0.5)])\n",
    "fig.show()\n",
    "#Churners and Non-Churners based on their country\n",
    "churners=df_churn[df_churn['Exited']==1]\n",
    "nonchurners=df_churn[df_churn['Exited']==0]\n",
    "\n",
    "churners_counta=pd.DataFrame(churners['Geography'].value_counts(normalize=False))\n",
    "churners_counta=churners_counta.reset_index().rename(columns = {'index':'Geography','Geography':'Count'})\n",
    "churners_count=pd.merge(churners_counta, palette_df, on=['Geography'],how='outer')\n",
    "\n",
    "\n",
    "nonchurners_counta=pd.DataFrame(nonchurners['Geography'].value_counts(normalize=False))\n",
    "nonchurners_counta=nonchurners_counta.reset_index().rename(columns = {'index':'Geography','Geography':'Count'})\n",
    "nonchurners_count=pd.merge(nonchurners_counta, palette_df, on=['Geography'],how='outer')\n",
    "\n",
    "fig = make_subplots(rows=1, cols=2, \n",
    "                    specs=[[{\"type\": \"pie\"},{\"type\": \"pie\"}]],\n",
    "                    subplot_titles=(\"Churners by Location\",\"Non-churners by Location\"))\n",
    "\n",
    "fig.add_trace(go.Pie(labels=churners_count['Geography'], values=churners_count['Count'],textinfo='label',\n",
    "                     name='Churners Geographical Locations', \n",
    "                     marker_colors=churners_count['Color'],hole=0.5),1,1)\n",
    "\n",
    "fig.add_trace(go.Pie(labels=nonchurners_count['Geography'], values=nonchurners_count['Count'],textinfo='label',\n",
    "                     name='Non-Churners Geographical Locations',  \n",
    "                     marker_colors=nonchurners_count['Color'],hole=0.5),1,2)"
   ]
  },
  {
   "cell_type": "code",
   "execution_count": null,
   "id": "5c5ff10b",
   "metadata": {},
   "outputs": [],
   "source": [
    "#Random Forest\n",
    "sc = StandardScaler()\n",
    "X_rftrain = sc.fit_transform(X_train)\n",
    "X_rftest = sc.transform(X_test)\n",
    "rfc = RandomForestClassifier(criterion ='gini', n_estimators=100,random_state = 10,max_features='auto')\n",
    "rfc.fit(X_rftrain, y_train)\n",
    "\n",
    "\n",
    "rfc_pred_train = rfc.predict(X_rftrain)\n",
    "rfc_pred_test = rfc.predict(X_rftest)\n",
    "\n",
    "confusion_matrix(y_test, rfc_pred_test)\n",
    "\n",
    "accuracy_rf=accuracy_score(y_test, rfc_pred_test)*100\n",
    "print(\"The accuracy score of the Random Forest Classification Model is: \",accuracy_rf)\n",
    "print(classification_report(y_test, rfc_pred_test))"
   ]
  },
  {
   "cell_type": "code",
   "execution_count": null,
   "id": "2af84eb8",
   "metadata": {},
   "outputs": [],
   "source": []
  }
 ],
 "metadata": {
  "kernelspec": {
   "display_name": "Python 3 (ipykernel)",
   "language": "python",
   "name": "python3"
  },
  "language_info": {
   "codemirror_mode": {
    "name": "ipython",
    "version": 3
   },
   "file_extension": ".py",
   "mimetype": "text/x-python",
   "name": "python",
   "nbconvert_exporter": "python",
   "pygments_lexer": "ipython3",
   "version": "3.10.5"
  }
 },
 "nbformat": 4,
 "nbformat_minor": 5
}
